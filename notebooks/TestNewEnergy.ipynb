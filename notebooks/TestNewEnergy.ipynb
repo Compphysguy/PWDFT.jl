{
 "cells": [
  {
   "cell_type": "code",
   "execution_count": 3,
   "metadata": {},
   "outputs": [
    {
     "name": "stdout",
     "output_type": "stream",
     "text": [
      "Julia Version 1.0.0\n",
      "Commit 5d4eaca0c9 (2018-08-08 20:58 UTC)\n",
      "Platform Info:\n",
      "  OS: Linux (x86_64-pc-linux-gnu)\n",
      "  CPU: Intel(R) Pentium(R) CPU B980 @ 2.40GHz\n",
      "  WORD_SIZE: 64\n",
      "  LIBM: libopenlibm\n",
      "  LLVM: libLLVM-6.0.0 (ORCJIT, sandybridge)\n"
     ]
    }
   ],
   "source": [
    "versioninfo()"
   ]
  },
  {
   "cell_type": "markdown",
   "metadata": {},
   "source": [
    "## Common packages"
   ]
  },
  {
   "cell_type": "code",
   "execution_count": 4,
   "metadata": {},
   "outputs": [],
   "source": [
    "using Printf\n",
    "using LinearAlgebra\n",
    "using Random\n",
    "using FFTW"
   ]
  },
  {
   "cell_type": "markdown",
   "metadata": {},
   "source": [
    "## External libraries"
   ]
  },
  {
   "cell_type": "code",
   "execution_count": 6,
   "metadata": {},
   "outputs": [],
   "source": [
    "include(\"../extlibs/extlibs.jl\");"
   ]
  },
  {
   "cell_type": "markdown",
   "metadata": {},
   "source": [
    "## Constants"
   ]
  },
  {
   "cell_type": "code",
   "execution_count": 7,
   "metadata": {},
   "outputs": [],
   "source": [
    "const Ry2eV = 13.605693009;\n",
    "const ANG2BOHR = 1.8897261254578281;"
   ]
  },
  {
   "cell_type": "markdown",
   "metadata": {},
   "source": [
    "## Type aliases"
   ]
  },
  {
   "cell_type": "code",
   "execution_count": 8,
   "metadata": {},
   "outputs": [],
   "source": [
    "const BlochWavefunc = Array{Array{ComplexF64,2},1};\n",
    "const Wavefunc = Array{ComplexF64,2};"
   ]
  },
  {
   "cell_type": "markdown",
   "metadata": {},
   "source": [
    "## Atoms, lattice, etc"
   ]
  },
  {
   "cell_type": "code",
   "execution_count": 9,
   "metadata": {},
   "outputs": [],
   "source": [
    "include(\"../src/Atoms.jl\");\n",
    "\n",
    "include(\"../src/gen_lattice_pwscf.jl\");\n",
    "\n",
    "include(\"../src/spglib.jl\");\n",
    "\n",
    "include(\"../src/KPoints.jl\");\n",
    "\n",
    "include(\"../src/XSF_utils.jl\");\n",
    "\n",
    "include(\"../src/Utilities.jl\");\n",
    "\n",
    "include(\"../src/ortho_gram_schmidt.jl\");\n",
    "include(\"../src/ortho_sqrt.jl\");\n",
    "include(\"../src/ortho_check.jl\");\n",
    "\n",
    "include(\"../src/Ylm_real.jl\");\n",
    "include(\"../src/Ylm_complex.jl\");\n",
    "\n",
    "include(\"../src/fft_support.jl\");"
   ]
  },
  {
   "cell_type": "code",
   "execution_count": 10,
   "metadata": {},
   "outputs": [
    {
     "name": "stdout",
     "output_type": "stream",
     "text": [
      "search: \u001b[0m\u001b[1mA\u001b[22m\u001b[0m\u001b[1mt\u001b[22m\u001b[0m\u001b[1mo\u001b[22m\u001b[0m\u001b[1mm\u001b[22m\u001b[0m\u001b[1ms\u001b[22m get_Z\u001b[0m\u001b[1ma\u001b[22m\u001b[0m\u001b[1mt\u001b[22m\u001b[0m\u001b[1mo\u001b[22m\u001b[0m\u001b[1mm\u001b[22m\u001b[0m\u001b[1ms\u001b[22m init_\u001b[0m\u001b[1ma\u001b[22m\u001b[0m\u001b[1mt\u001b[22m\u001b[0m\u001b[1mo\u001b[22m\u001b[0m\u001b[1mm\u001b[22m\u001b[0m\u001b[1ms\u001b[22m_xyz init_\u001b[0m\u001b[1ma\u001b[22m\u001b[0m\u001b[1mt\u001b[22m\u001b[0m\u001b[1mo\u001b[22m\u001b[0m\u001b[1mm\u001b[22m\u001b[0m\u001b[1ms\u001b[22m_xyz_ext init_\u001b[0m\u001b[1ma\u001b[22m\u001b[0m\u001b[1mt\u001b[22m\u001b[0m\u001b[1mo\u001b[22m\u001b[0m\u001b[1mm\u001b[22m\u001b[0m\u001b[1ms\u001b[22m_xyz_string\n",
      "\n"
     ]
    },
    {
     "data": {
      "text/markdown": [
       "The type for representing an atomic-scale structures such as molecules and solids.\n",
       "\n",
       "---\n",
       "\n",
       "Creates an instance of `Atoms`.\n",
       "\n",
       "If no arguments are given, then a dummy `Atoms` is returned.\n",
       "\n",
       "Use only one of `xyz_file`, `xyz_string` and `xyz_string_frac` for specifying number of atoms, atomic symbols, and positions, following xyz format, for example:\n",
       "\n",
       "```\n",
       "3\n",
       "\n",
       "C   0.0   0.0   0.0\n",
       "O   0.0   0.0   1.5\n",
       "```\n",
       "\n",
       "The argument `xyz_file` is used when the structure is given in an xyz file, which in this case `xyz_file` is a string of path to the xyz file. By default the unit used is angstrom. If the coordinate is given in bohr, set `in_bohr=true`.\n",
       "\n",
       "Alternatively, one can pass the content of xyz file as string in `xyz_string`.\n",
       "\n",
       "`xyz_string_frac` is the same as `xyz_string`, however the actual coordinates will be transformed by multiplying it with `LatVecs`. This is useful for crystals.\n"
      ],
      "text/plain": [
       "  The type for representing an atomic-scale structures such as molecules and\n",
       "  solids.\n",
       "\n",
       "  ────────────────────────────────────────────────────────────────────────────\n",
       "\n",
       "  Creates an instance of \u001b[36mAtoms\u001b[39m.\n",
       "\n",
       "  If no arguments are given, then a dummy \u001b[36mAtoms\u001b[39m is returned.\n",
       "\n",
       "  Use only one of \u001b[36mxyz_file\u001b[39m, \u001b[36mxyz_string\u001b[39m and \u001b[36mxyz_string_frac\u001b[39m for specifying\n",
       "  number of atoms, atomic symbols, and positions, following xyz format, for\n",
       "  example:\n",
       "\n",
       "\u001b[36m  3\u001b[39m\n",
       "\u001b[36m  \u001b[39m\n",
       "\u001b[36m  C   0.0   0.0   0.0\u001b[39m\n",
       "\u001b[36m  O   0.0   0.0   1.5\u001b[39m\n",
       "\n",
       "  The argument \u001b[36mxyz_file\u001b[39m is used when the structure is given in an xyz file,\n",
       "  which in this case \u001b[36mxyz_file\u001b[39m is a string of path to the xyz file. By default\n",
       "  the unit used is angstrom. If the coordinate is given in bohr, set\n",
       "  \u001b[36min_bohr=true\u001b[39m.\n",
       "\n",
       "  Alternatively, one can pass the content of xyz file as string in \u001b[36mxyz_string\u001b[39m.\n",
       "\n",
       "  \u001b[36mxyz_string_frac\u001b[39m is the same as \u001b[36mxyz_string\u001b[39m, however the actual coordinates\n",
       "  will be transformed by multiplying it with \u001b[36mLatVecs\u001b[39m. This is useful for\n",
       "  crystals."
      ]
     },
     "execution_count": 10,
     "metadata": {},
     "output_type": "execute_result"
    }
   ],
   "source": [
    "?Atoms"
   ]
  },
  {
   "cell_type": "code",
   "execution_count": null,
   "metadata": {},
   "outputs": [],
   "source": []
  },
  {
   "cell_type": "code",
   "execution_count": null,
   "metadata": {},
   "outputs": [],
   "source": []
  },
  {
   "cell_type": "code",
   "execution_count": null,
   "metadata": {},
   "outputs": [],
   "source": []
  }
 ],
 "metadata": {
  "kernelspec": {
   "display_name": "Julia 1.0.0",
   "language": "julia",
   "name": "julia-1.0"
  },
  "language_info": {
   "file_extension": ".jl",
   "mimetype": "application/julia",
   "name": "julia",
   "version": "1.0.0"
  }
 },
 "nbformat": 4,
 "nbformat_minor": 2
}
